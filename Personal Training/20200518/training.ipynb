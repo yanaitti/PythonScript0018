{
 "cells": [
  {
   "cell_type": "code",
   "execution_count": 1,
   "metadata": {},
   "outputs": [],
   "source": [
    "import torch"
   ]
  },
  {
   "cell_type": "code",
   "execution_count": 3,
   "metadata": {},
   "outputs": [
    {
     "name": "stdout",
     "output_type": "stream",
     "text": [
      "tensor([[0, 0, 0, 0],\n",
      "        [0, 0, 0, 0]], dtype=torch.int32)\n"
     ]
    }
   ],
   "source": [
    "# 0または1埋めされたdata\n",
    "\n",
    "a = torch.zeros([2, 4], dtype=torch.int32)\n",
    "print(a)"
   ]
  },
  {
   "cell_type": "code",
   "execution_count": 4,
   "metadata": {},
   "outputs": [
    {
     "name": "stdout",
     "output_type": "stream",
     "text": [
      "tensor([[[1., 1., 1.],\n",
      "         [1., 1., 1.],\n",
      "         [1., 1., 1.]],\n",
      "\n",
      "        [[1., 1., 1.],\n",
      "         [1., 1., 1.],\n",
      "         [1., 1., 1.]]])\n"
     ]
    }
   ],
   "source": [
    "b = torch.ones([2, 3, 3])\n",
    "print(b)"
   ]
  },
  {
   "cell_type": "code",
   "execution_count": 13,
   "metadata": {},
   "outputs": [
    {
     "name": "stdout",
     "output_type": "stream",
     "text": [
      "tensor([[[1., 1., 1.],\n",
      "         [1., 1., 1.],\n",
      "         [1., 1., 1.]],\n",
      "\n",
      "        [[1., 1., 1.],\n",
      "         [1., 1., 1.],\n",
      "         [1., 1., 1.]]], device='cuda:0', dtype=torch.float64)\n"
     ]
    }
   ],
   "source": [
    "# for GPU\n",
    "\n",
    "device = torch.device('cuda:0')\n",
    "c = torch.ones([2, 3, 3], dtype=torch.float64, device=device)\n",
    "print(c)\n"
   ]
  },
  {
   "cell_type": "code",
   "execution_count": 14,
   "metadata": {},
   "outputs": [
    {
     "name": "stdout",
     "output_type": "stream",
     "text": [
      "tensor([[[1., 1., 1.],\n",
      "         [1., 1., 1.],\n",
      "         [1., 1., 1.]],\n",
      "\n",
      "        [[1., 1., 1.],\n",
      "         [1., 1., 1.],\n",
      "         [1., 1., 1.]]], dtype=torch.float64)\n"
     ]
    }
   ],
   "source": [
    "d = torch.ones([2, 3, 3], dtype=torch.float64)\n",
    "d.to(device)\n",
    "print(d)"
   ]
  },
  {
   "cell_type": "code",
   "execution_count": 16,
   "metadata": {},
   "outputs": [
    {
     "name": "stdout",
     "output_type": "stream",
     "text": [
      "tensor(13.2500, grad_fn=<AddBackward0>)\n",
      "tensor(2.5000, requires_grad=True)\n",
      "tensor(4.5000)\n"
     ]
    }
   ],
   "source": [
    "# grad\n",
    "\n",
    "x = torch.tensor(2.5, requires_grad=True)\n",
    "y = 4.5*x + 2\n",
    "y.backward()\n",
    "print(y)\n",
    "print(x)\n",
    "print(x.grad)"
   ]
  },
  {
   "cell_type": "code",
   "execution_count": 17,
   "metadata": {},
   "outputs": [
    {
     "name": "stdout",
     "output_type": "stream",
     "text": [
      "13.25\n"
     ]
    }
   ],
   "source": [
    "print(4.5*2.5 +2)"
   ]
  },
  {
   "cell_type": "code",
   "execution_count": 19,
   "metadata": {},
   "outputs": [
    {
     "name": "stdout",
     "output_type": "stream",
     "text": [
      "[[ 1.79322848 -2.01226166  0.49464804]\n",
      " [-0.23600675 -1.13500335  1.32774189]]\n",
      "tensor([[ 1.7932, -2.0123,  0.4946],\n",
      "        [-0.2360, -1.1350,  1.3277]], dtype=torch.float64)\n"
     ]
    }
   ],
   "source": [
    "# ndarray => Tensor\n",
    "import numpy as np\n",
    "\n",
    "a = np.random.randn(2, 3)\n",
    "b = torch.from_numpy(a)\n",
    "print(a)\n",
    "print(b)"
   ]
  },
  {
   "cell_type": "code",
   "execution_count": 20,
   "metadata": {},
   "outputs": [
    {
     "name": "stdout",
     "output_type": "stream",
     "text": [
      "[ 0.53024936  0.02313642 -0.841172  ]\n",
      "[-1.          0.02313642 -0.841172  ]\n"
     ]
    }
   ],
   "source": [
    "# carefully\n",
    "\n",
    "a = np.random.randn(3).astype(np.float32)\n",
    "print(a)\n",
    "b = torch.from_numpy(a)\n",
    "b[0] = -1\n",
    "print(a)"
   ]
  },
  {
   "cell_type": "code",
   "execution_count": 21,
   "metadata": {},
   "outputs": [
    {
     "name": "stdout",
     "output_type": "stream",
     "text": [
      "[ 0.08494783  0.1738401  -0.5703047 ]\n",
      "[ 0.08494783  0.1738401  -0.5703047 ]\n"
     ]
    }
   ],
   "source": [
    "a = np.random.randn(3).astype(np.float32)\n",
    "print(a)\n",
    "b = torch.from_numpy(a.copy())\n",
    "b[0] = -1\n",
    "print(a)"
   ]
  },
  {
   "cell_type": "code",
   "execution_count": 22,
   "metadata": {},
   "outputs": [
    {
     "name": "stdout",
     "output_type": "stream",
     "text": [
      "tensor([[1, 2, 3, 4],\n",
      "        [5, 6, 7, 8]], dtype=torch.int32)\n",
      "[[1 2 3 4]\n",
      " [5 6 7 8]]\n"
     ]
    }
   ],
   "source": [
    "# Tensor => ndarray\n",
    "\n",
    "a = torch.tensor(np.array([[1,2,3,4], [5,6,7,8]]))\n",
    "b = a.numpy()\n",
    "print(a)\n",
    "print(b)\n"
   ]
  },
  {
   "cell_type": "code",
   "execution_count": null,
   "metadata": {},
   "outputs": [],
   "source": []
  }
 ],
 "metadata": {
  "kernelspec": {
   "display_name": "Python 3",
   "language": "python",
   "name": "python3"
  },
  "language_info": {
   "codemirror_mode": {
    "name": "ipython",
    "version": 3
   },
   "file_extension": ".py",
   "mimetype": "text/x-python",
   "name": "python",
   "nbconvert_exporter": "python",
   "pygments_lexer": "ipython3",
   "version": "3.7.6"
  }
 },
 "nbformat": 4,
 "nbformat_minor": 4
}
