{
 "cells": [
  {
   "cell_type": "code",
   "execution_count": 88,
   "metadata": {},
   "outputs": [],
   "source": [
    "from flask import Flask, Response\n",
    "from flask_caching import Cache\n",
    "import uuid\n",
    "import random\n",
    "import collections\n",
    "import numpy as np\n"
   ]
  },
  {
   "cell_type": "code",
   "execution_count": 89,
   "metadata": {},
   "outputs": [],
   "source": [
    "class Game:\n",
    "    status = 'waiting' # waiting, started, end\n",
    "    gameid = ''\n",
    "    members = {}\n",
    "    routelist = []\n",
    "    routeidx = 0\n",
    "    cards = []\n",
    "    stocks = list(range(2, 99))\n",
    "    hightolow = []\n",
    "    lowtohigh = []\n",
    "\n",
    "\n",
    "class Member:\n",
    "    nickname = ''\n",
    "    holdcards = []\n"
   ]
  },
  {
   "cell_type": "code",
   "execution_count": 90,
   "metadata": {},
   "outputs": [
    {
     "name": "stdout",
     "output_type": "stream",
     "text": [
      "[2, 3, 4, 5, 6, 7, 8, 9, 10, 11, 12, 13, 14, 15, 16, 17, 18, 19, 20, 21, 22, 23, 24, 25, 26, 27, 28, 29, 30, 31, 32, 33, 34, 35, 36, 37, 38, 39, 40, 41, 42, 43, 44, 45, 46, 47, 48, 49, 50, 51, 52, 53, 54, 55, 56, 57, 58, 59, 60, 61, 62, 63, 64, 65, 66, 67, 68, 69, 70, 71, 72, 73, 74, 75, 76, 77, 78, 79, 80, 81, 82, 83, 84, 85, 86, 87, 88, 89, 90, 91, 92, 93, 94, 95, 96, 97, 98]\n"
     ]
    }
   ],
   "source": [
    "print(Game.stocks)"
   ]
  },
  {
   "cell_type": "code",
   "execution_count": 91,
   "metadata": {},
   "outputs": [
    {
     "name": "stdout",
     "output_type": "stream",
     "text": [
      "e82fc3ca-9c24-4a5b-9f7f-89061703c1c3\n"
     ]
    }
   ],
   "source": [
    "# create the game\n",
    "game = Game()\n",
    "member = Member()\n",
    "\n",
    "gameid = str(uuid.uuid4())\n",
    "game.gameid = gameid\n",
    "member.nickname = gameid\n",
    "game.members[gameid] = member\n",
    "print(gameid)\n"
   ]
  },
  {
   "cell_type": "code",
   "execution_count": 93,
   "metadata": {},
   "outputs": [
    {
     "name": "stdout",
     "output_type": "stream",
     "text": [
      "29c1ab4f-b2d5-4e27-ba19-5e985636bb49\n"
     ]
    }
   ],
   "source": [
    "# join member\n",
    "member = Member()\n",
    "\n",
    "clientid = str(uuid.uuid4())\n",
    "member.nickname = clientid\n",
    "member.holdcards = []\n",
    "game.members[clientid] = member\n",
    "print(clientid)"
   ]
  },
  {
   "cell_type": "code",
   "execution_count": 94,
   "metadata": {},
   "outputs": [
    {
     "name": "stdout",
     "output_type": "stream",
     "text": [
      "e82fc3ca-9c24-4a5b-9f7f-89061703c1c3\n",
      "f2177afa-cceb-4276-a1a7-184e66e73be4\n",
      "29c1ab4f-b2d5-4e27-ba19-5e985636bb49\n"
     ]
    }
   ],
   "source": [
    "for mid in game.members.keys():\n",
    "    print(mid)"
   ]
  },
  {
   "cell_type": "code",
   "execution_count": 95,
   "metadata": {},
   "outputs": [],
   "source": [
    "# start the game\n",
    "members = [mid for mid in game.members.keys()]\n",
    "random.shuffle(members)\n",
    "game.routelist = members\n",
    "\n",
    "for mid in members:\n",
    "    member = game.members[mid]\n",
    "    member.holdcards = []\n",
    "    for i in range(6):\n",
    "        member.holdcards.append(game.stocks.pop(random.randint(0, len(game.stocks) - 1)))\n",
    "\n",
    "game.hightolow = []\n",
    "game.lowtohigh = []\n",
    "game.hightolow.append([100])\n",
    "game.hightolow.append([100])\n",
    "game.lowtohigh.append([1])\n",
    "game.lowtohigh.append([1])\n"
   ]
  },
  {
   "cell_type": "code",
   "execution_count": 104,
   "metadata": {},
   "outputs": [
    {
     "name": "stdout",
     "output_type": "stream",
     "text": [
      "['29c1ab4f-b2d5-4e27-ba19-5e985636bb49', 'e82fc3ca-9c24-4a5b-9f7f-89061703c1c3', 'f2177afa-cceb-4276-a1a7-184e66e73be4']\n",
      "[75, 63, 78, 32, 11] e82fc3ca-9c24-4a5b-9f7f-89061703c1c3\n",
      "[44, 67, 30, 43, 5] f2177afa-cceb-4276-a1a7-184e66e73be4\n",
      "[65, 40, 23, 46, 94] 29c1ab4f-b2d5-4e27-ba19-5e985636bb49\n",
      "100\n",
      "80\n",
      "21\n",
      "1\n"
     ]
    }
   ],
   "source": [
    "print(game.routelist)\n",
    "\n",
    "for mid in game.members.keys():\n",
    "    print(game.members[mid].holdcards, mid)\n",
    "\n",
    "print(game.hightolow[0][-1])\n",
    "print(game.hightolow[1][-1])\n",
    "print(game.lowtohigh[0][-1])\n",
    "print(game.lowtohigh[1][-1])\n"
   ]
  },
  {
   "cell_type": "code",
   "execution_count": 105,
   "metadata": {},
   "outputs": [
    {
     "name": "stdout",
     "output_type": "stream",
     "text": [
      "Error3\n"
     ]
    }
   ],
   "source": [
    "# use card\n",
    "lineid = 2\n",
    "clientid = 'e82fc3ca-9c24-4a5b-9f7f-89061703c1c3'\n",
    "cardnum = 11\n",
    "\n",
    "if lineid in [0, 1]:\n",
    "    # 100 -> 2\n",
    "    if game.hightolow[lineid][-1] > cardnum:\n",
    "        game.hightolow[lineid].append(cardnum)\n",
    "    else:\n",
    "        if (game.hightolow[lineid][-1] + 10) == cardnum:\n",
    "            game.hightolow[lineid].append(cardnum)\n",
    "        else:\n",
    "            print('Error1')\n",
    "elif lineid in [2, 3]:\n",
    "    # 1 -> 99\n",
    "    if game.lowtohigh[lineid%2][-1] < cardnum:\n",
    "        game.lowtohigh[lineid%2].append(cardnum)\n",
    "    else:\n",
    "        if (game.lowtohigh[lineid%2][-1] - 10) == cardnum:\n",
    "            game.lowtohigh[lineid%2].append(cardnum)\n",
    "        else:\n",
    "            print('Error3')\n",
    "else:\n",
    "    print('Error5')\n",
    "\n",
    "game.members[clientid].holdcards.remove(cardnum)\n"
   ]
  },
  {
   "cell_type": "code",
   "execution_count": 77,
   "metadata": {},
   "outputs": [],
   "source": [
    "game.routeidx = (game.routeidx + 1) % 6\n",
    "\n",
    "for mid in members:\n",
    "    member = game.members[mid]\n",
    "    while len(member.holdcards) < 6:\n",
    "        member.holdcards.append(game.stocks.pop(random.randint(0, len(game.stocks) - 1)))\n"
   ]
  },
  {
   "cell_type": "code",
   "execution_count": 78,
   "metadata": {},
   "outputs": [
    {
     "name": "stdout",
     "output_type": "stream",
     "text": [
      "1\n",
      "[62, 78, 48, 79, 22, 95] 15bc6063-b3c3-4df4-8e88-cacec2246e76\n",
      "[57, 46, 49, 5, 20, 71] dd0e0b41-8457-42aa-a4bd-1c8fe549d5b1\n",
      "[86, 94, 90, 53, 42, 6] e9812337-bbf8-4a5a-9d6f-d40631e5847d\n"
     ]
    }
   ],
   "source": [
    "print(game.routeidx)\n",
    "for mid in game.members.keys():\n",
    "    print(game.members[mid].holdcards, mid)"
   ]
  },
  {
   "cell_type": "code",
   "execution_count": 101,
   "metadata": {},
   "outputs": [
    {
     "name": "stdout",
     "output_type": "stream",
     "text": [
      "True [65, 40, 23, 46, 94]\n"
     ]
    }
   ],
   "source": [
    "yourturn = False\n",
    "\n",
    "if game.routelist[game.routeidx] == clientid:\n",
    "    yourturn = True\n",
    "\n",
    "holdcards = game.members[clientid].holdcards\n",
    "print(yourturn, holdcards)"
   ]
  },
  {
   "cell_type": "code",
   "execution_count": null,
   "metadata": {},
   "outputs": [],
   "source": []
  }
 ],
 "metadata": {
  "kernelspec": {
   "display_name": "Python 3",
   "language": "python",
   "name": "python3"
  },
  "language_info": {
   "codemirror_mode": {
    "name": "ipython",
    "version": 3
   },
   "file_extension": ".py",
   "mimetype": "text/x-python",
   "name": "python",
   "nbconvert_exporter": "python",
   "pygments_lexer": "ipython3",
   "version": "3.7.6"
  }
 },
 "nbformat": 4,
 "nbformat_minor": 4
}
