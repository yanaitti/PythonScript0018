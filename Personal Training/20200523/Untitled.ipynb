{
 "cells": [
  {
   "cell_type": "code",
   "execution_count": 9,
   "metadata": {},
   "outputs": [],
   "source": [
    "import uuid\n",
    "import random\n",
    "import collections"
   ]
  },
  {
   "cell_type": "code",
   "execution_count": 10,
   "metadata": {},
   "outputs": [],
   "source": [
    "answers = ['アパート', '宇宙人', 'チャーハン', 'フィリピン']\n"
   ]
  },
  {
   "cell_type": "code",
   "execution_count": 11,
   "metadata": {},
   "outputs": [],
   "source": [
    "class Game:\n",
    "    status = 'waiting' # waiting, started, end\n",
    "    gameid = ''\n",
    "    members = {}\n",
    "    master = ''\n",
    "    insider = ''\n",
    "    answer = ''\n",
    "    votelist = []\n",
    "    votedlist = []\n"
   ]
  },
  {
   "cell_type": "code",
   "execution_count": 12,
   "metadata": {},
   "outputs": [],
   "source": [
    "class Member:\n",
    "    nickname = ''\n",
    "    win = 0\n",
    "    lose = 0\n",
    "    game_count = 0\n"
   ]
  },
  {
   "cell_type": "code",
   "execution_count": 13,
   "metadata": {},
   "outputs": [
    {
     "name": "stdout",
     "output_type": "stream",
     "text": [
      "d0676baf-33e1-4c28-ad4e-8b11be1e7a9c\n"
     ]
    }
   ],
   "source": [
    "# create game\n",
    "\n",
    "game = Game()\n",
    "member = Member()\n",
    "\n",
    "gameid = str(uuid.uuid4())\n",
    "game.gameid = gameid\n",
    "member.nickname = gameid\n",
    "game.members[gameid] = member\n",
    "\n",
    "print(gameid)"
   ]
  },
  {
   "cell_type": "code",
   "execution_count": 16,
   "metadata": {},
   "outputs": [
    {
     "name": "stdout",
     "output_type": "stream",
     "text": [
      "f9695332-07c7-479a-a06e-01b08334ba80\n"
     ]
    }
   ],
   "source": [
    "# join game\n",
    "member = Member()\n",
    "\n",
    "clientid = str(uuid.uuid4())\n",
    "member.nickname = clientid\n",
    "game.members[clientid] = member\n",
    "\n",
    "print(clientid)"
   ]
  },
  {
   "cell_type": "code",
   "execution_count": 17,
   "metadata": {},
   "outputs": [
    {
     "name": "stdout",
     "output_type": "stream",
     "text": [
      "d0676baf-33e1-4c28-ad4e-8b11be1e7a9c ,f9695332-07c7-479a-a06e-01b08334ba80 ,master:4dde3e9d-edf7-481e-bf37-6171a4371126 ,insider:c7f923e0-c91e-436d-b859-24a2f83d707f ,answer:アパート original:d0676baf-33e1-4c28-ad4e-8b11be1e7a9c ,c7f923e0-c91e-436d-b859-24a2f83d707f ,4dde3e9d-edf7-481e-bf37-6171a4371126 ,f9695332-07c7-479a-a06e-01b08334ba80\n"
     ]
    }
   ],
   "source": [
    "members = [mid for mid in game.members.keys()]\n",
    "\n",
    "# auto select master\n",
    "n = random.randint(0, len(members) - 1)\n",
    "game.master = members.pop(n)\n",
    "\n",
    "game.votelist = members\n",
    "\n",
    "# auto select insider\n",
    "n = random.randint(0, len(members) - 1)\n",
    "game.insider = members.pop(n)\n",
    "\n",
    "# auto select answer\n",
    "game.answer = answers[random.randint(0, len(answers) - 1)]\n",
    "\n",
    "print(' ,'.join(members) + ' ,master:' + game.master + ' ,insider:' + game.insider + ' ,answer:' + game.answer + ' original:' + ' ,'.join(game.members))"
   ]
  },
  {
   "cell_type": "code",
   "execution_count": 27,
   "metadata": {},
   "outputs": [
    {
     "name": "stdout",
     "output_type": "stream",
     "text": [
      "['c9cee732-1d15-4e4e-b9db-62f38c9d9562', 'c9cee732-1d15-4e4e-b9db-62f38c9d9562', 'c9cee732-1d15-4e4e-b9db-62f38c9d9562', '2e55690f-29aa-4270-98c9-a51f01a40d58']\n"
     ]
    }
   ],
   "source": [
    "# vote\n",
    "voteid = game.votelist[random.randint(0, len(game.votelist) -1)]\n",
    "\n",
    "game.votedlist.append(voteid)\n",
    "\n",
    "print(game.votedlist)"
   ]
  },
  {
   "cell_type": "code",
   "execution_count": 30,
   "metadata": {},
   "outputs": [
    {
     "name": "stdout",
     "output_type": "stream",
     "text": [
      "('c9cee732-1d15-4e4e-b9db-62f38c9d9562', 3)\n"
     ]
    }
   ],
   "source": [
    "votedlist = collections.Counter(game.votedlist)\n",
    "print(votedlist.most_common()[0])"
   ]
  },
  {
   "cell_type": "code",
   "execution_count": 25,
   "metadata": {},
   "outputs": [
    {
     "name": "stdout",
     "output_type": "stream",
     "text": [
      "['d0676baf-33e1-4c28-ad4e-8b11be1e7a9c', 'c7f923e0-c91e-436d-b859-24a2f83d707f', '4dde3e9d-edf7-481e-bf37-6171a4371126', 'f9695332-07c7-479a-a06e-01b08334ba80']\n"
     ]
    }
   ],
   "source": [
    "memberids = list(mid for mid in game.members.keys())\n",
    "print(memberids)"
   ]
  },
  {
   "cell_type": "code",
   "execution_count": null,
   "metadata": {},
   "outputs": [],
   "source": []
  }
 ],
 "metadata": {
  "kernelspec": {
   "display_name": "Python 3",
   "language": "python",
   "name": "python3"
  },
  "language_info": {
   "codemirror_mode": {
    "name": "ipython",
    "version": 3
   },
   "file_extension": ".py",
   "mimetype": "text/x-python",
   "name": "python",
   "nbconvert_exporter": "python",
   "pygments_lexer": "ipython3",
   "version": "3.7.6"
  }
 },
 "nbformat": 4,
 "nbformat_minor": 4
}
